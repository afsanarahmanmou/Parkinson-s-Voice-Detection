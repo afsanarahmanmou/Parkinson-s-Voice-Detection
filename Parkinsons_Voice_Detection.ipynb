{
  "nbformat": 4,
  "nbformat_minor": 0,
  "metadata": {
    "colab": {
      "name": "Parkinsons- Voice Detection.ipynb",
      "provenance": []
    },
    "kernelspec": {
      "name": "python3",
      "display_name": "Python 3"
    }
  },
  "cells": [
    {
      "cell_type": "code",
      "metadata": {
        "id": "2xqXGz-aeoRr"
      },
      "source": [
        "import pandas as pd \r\n",
        "import numpy as np \r\n",
        "import os, sys"
      ],
      "execution_count": 1,
      "outputs": []
    },
    {
      "cell_type": "code",
      "metadata": {
        "id": "snlCv3oafIzH"
      },
      "source": [
        "data = pd.read_csv('parkinsons.data.txt')\r\n"
      ],
      "execution_count": 2,
      "outputs": []
    },
    {
      "cell_type": "code",
      "metadata": {
        "id": "fymLN4YXp6eV"
      },
      "source": [
        "predictors = data.drop(['name'], axis = 1)\r\n"
      ],
      "execution_count": 4,
      "outputs": []
    },
    {
      "cell_type": "code",
      "metadata": {
        "id": "PUr9H_PDqfM-"
      },
      "source": [
        "predictors = predictors.drop(['status'], axis = 1).values"
      ],
      "execution_count": 6,
      "outputs": []
    },
    {
      "cell_type": "code",
      "metadata": {
        "id": "QVycYit0rcRV"
      },
      "source": [
        "target = data['status']"
      ],
      "execution_count": 7,
      "outputs": []
    },
    {
      "cell_type": "code",
      "metadata": {
        "id": "Ms_xosH3sueC"
      },
      "source": [
        "from sklearn.preprocessing import MinMaxScaler\r\n",
        "scaler = MinMaxScaler((-1, 1))\r\n",
        "X = scaler.fit_transform(predictors)\r\n",
        "Y = target"
      ],
      "execution_count": 8,
      "outputs": []
    },
    {
      "cell_type": "code",
      "metadata": {
        "id": "PKE1SVKAt3K1"
      },
      "source": [
        "import xgboost as xgb\r\n",
        "from xgboost import XGBClassifier\r\n",
        "from sklearn.model_selection import train_test_split\r\n",
        "from sklearn.linear_model import LogisticRegression\r\n",
        "from sklearn import metrics\r\n",
        "X_train, X_test, Y_train, Y_test = train_test_split(X, Y, test_size = .25, random_state = 7)"
      ],
      "execution_count": 9,
      "outputs": []
    },
    {
      "cell_type": "code",
      "metadata": {
        "colab": {
          "base_uri": "https://localhost:8080/"
        },
        "id": "jdC80qRe7YEt",
        "outputId": "a43bef45-8a9a-4f84-9d09-bddb599cb256"
      },
      "source": [
        "model = XGBClassifier()\r\n",
        "model.fit(X_train, Y_train)"
      ],
      "execution_count": 10,
      "outputs": [
        {
          "output_type": "execute_result",
          "data": {
            "text/plain": [
              "XGBClassifier(base_score=0.5, booster='gbtree', colsample_bylevel=1,\n",
              "              colsample_bynode=1, colsample_bytree=1, gamma=0,\n",
              "              learning_rate=0.1, max_delta_step=0, max_depth=3,\n",
              "              min_child_weight=1, missing=None, n_estimators=100, n_jobs=1,\n",
              "              nthread=None, objective='binary:logistic', random_state=0,\n",
              "              reg_alpha=0, reg_lambda=1, scale_pos_weight=1, seed=None,\n",
              "              silent=None, subsample=1, verbosity=1)"
            ]
          },
          "metadata": {
            "tags": []
          },
          "execution_count": 10
        }
      ]
    },
    {
      "cell_type": "code",
      "metadata": {
        "colab": {
          "base_uri": "https://localhost:8080/"
        },
        "id": "5cnJv55Y95g6",
        "outputId": "12079d33-960e-45ac-b504-2ac82e2eb6ae"
      },
      "source": [
        "y_pred = model.predict(X_test)\r\n",
        "print(\"XGB boost:\")\r\n",
        "print(metrics.accuracy_score(Y_test, y_pred))\r\n",
        "print(metrics.classification_report(Y_test, y_pred))\r\n",
        "print(metrics.confusion_matrix(Y_test, y_pred))\r\n"
      ],
      "execution_count": 11,
      "outputs": [
        {
          "output_type": "stream",
          "text": [
            "XGB boost:\n",
            "0.9591836734693877\n",
            "              precision    recall  f1-score   support\n",
            "\n",
            "           0       1.00      0.80      0.89        10\n",
            "           1       0.95      1.00      0.97        39\n",
            "\n",
            "    accuracy                           0.96        49\n",
            "   macro avg       0.98      0.90      0.93        49\n",
            "weighted avg       0.96      0.96      0.96        49\n",
            "\n",
            "[[ 8  2]\n",
            " [ 0 39]]\n"
          ],
          "name": "stdout"
        }
      ]
    },
    {
      "cell_type": "markdown",
      "metadata": {
        "id": "Bh_HQH8OAP1w"
      },
      "source": [
        "Logistic Regression"
      ]
    },
    {
      "cell_type": "code",
      "metadata": {
        "id": "QNx421HgAVaa"
      },
      "source": [
        "from sklearn import datasets\r\n",
        "from sklearn import metrics\r\n",
        "from sklearn.linear_model import LogisticRegression"
      ],
      "execution_count": 12,
      "outputs": []
    },
    {
      "cell_type": "markdown",
      "metadata": {
        "id": "t6I9i_LuA9PY"
      },
      "source": [
        "# fit a logistic regression model to the data"
      ]
    },
    {
      "cell_type": "code",
      "metadata": {
        "id": "fRo4RvRyAsS0"
      },
      "source": [
        "model = LogisticRegression()\r\n",
        "model.fit(X_train, Y_train)\r\n",
        "y_pred = model.predict(X_test)"
      ],
      "execution_count": 13,
      "outputs": []
    },
    {
      "cell_type": "markdown",
      "metadata": {
        "id": "2tMibrPCBVT-"
      },
      "source": [
        "# summarize the fit of the model"
      ]
    },
    {
      "cell_type": "code",
      "metadata": {
        "colab": {
          "base_uri": "https://localhost:8080/"
        },
        "id": "daZm7UUeBbzL",
        "outputId": "b407a18a-9b61-4e58-8496-599a67fd15f6"
      },
      "source": [
        "print(\"Logistic Regression: \")\r\n",
        "print(metrics.accuracy_score(Y_test, y_pred))\r\n",
        "print(metrics.classification_report(Y_test, y_pred))\r\n",
        "print(metrics.confusion_matrix(Y_test, y_pred))"
      ],
      "execution_count": 14,
      "outputs": [
        {
          "output_type": "stream",
          "text": [
            "Logistic Regression: \n",
            "0.8775510204081632\n",
            "              precision    recall  f1-score   support\n",
            "\n",
            "           0       0.75      0.60      0.67        10\n",
            "           1       0.90      0.95      0.92        39\n",
            "\n",
            "    accuracy                           0.88        49\n",
            "   macro avg       0.83      0.77      0.80        49\n",
            "weighted avg       0.87      0.88      0.87        49\n",
            "\n",
            "[[ 6  4]\n",
            " [ 2 37]]\n"
          ],
          "name": "stdout"
        }
      ]
    },
    {
      "cell_type": "markdown",
      "metadata": {
        "id": "Vz7_NcXDBpNI"
      },
      "source": [
        "Gaussian Naive Bayes"
      ]
    },
    {
      "cell_type": "code",
      "metadata": {
        "colab": {
          "base_uri": "https://localhost:8080/"
        },
        "id": "bvdm1HUvC8Dw",
        "outputId": "d891f1fb-7fc8-40dd-ccf3-7763459d0872"
      },
      "source": [
        "from sklearn import datasets\r\n",
        "from sklearn import metrics\r\n",
        "from sklearn.naive_bayes import GaussianNB\r\n",
        "model = GaussianNB()\r\n",
        "model.fit(X_train, Y_train)"
      ],
      "execution_count": 15,
      "outputs": [
        {
          "output_type": "execute_result",
          "data": {
            "text/plain": [
              "GaussianNB(priors=None, var_smoothing=1e-09)"
            ]
          },
          "metadata": {
            "tags": []
          },
          "execution_count": 15
        }
      ]
    },
    {
      "cell_type": "markdown",
      "metadata": {
        "id": "Qy64seMZGFyr"
      },
      "source": [
        "Make predictions"
      ]
    },
    {
      "cell_type": "code",
      "metadata": {
        "id": "9Sp5beVTGKIA"
      },
      "source": [
        "y_pred = model.predict(X_test)"
      ],
      "execution_count": 16,
      "outputs": []
    },
    {
      "cell_type": "markdown",
      "metadata": {
        "id": "HawwKCd1GnO3"
      },
      "source": [
        "summarize the fit of the model"
      ]
    },
    {
      "cell_type": "code",
      "metadata": {
        "colab": {
          "base_uri": "https://localhost:8080/"
        },
        "id": "-lVqy1bLGyAT",
        "outputId": "d892ea25-2b5c-4cbf-abce-7b73bdf98729"
      },
      "source": [
        "print(\"Gaussian Naive Bayes:\")\r\n",
        "print(metrics.accuracy_score(Y_test, y_pred))\r\n",
        "print(metrics.classification_report(Y_test, y_pred))\r\n",
        "print(metrics.confusion_matrix(Y_test, y_pred))"
      ],
      "execution_count": 17,
      "outputs": [
        {
          "output_type": "stream",
          "text": [
            "Gaussian Naive Bayes:\n",
            "0.6938775510204082\n",
            "              precision    recall  f1-score   support\n",
            "\n",
            "           0       0.38      0.80      0.52        10\n",
            "           1       0.93      0.67      0.78        39\n",
            "\n",
            "    accuracy                           0.69        49\n",
            "   macro avg       0.65      0.73      0.65        49\n",
            "weighted avg       0.82      0.69      0.72        49\n",
            "\n",
            "[[ 8  2]\n",
            " [13 26]]\n"
          ],
          "name": "stdout"
        }
      ]
    },
    {
      "cell_type": "markdown",
      "metadata": {
        "id": "5-l2oKrKHMgN"
      },
      "source": [
        "#K-Nearest Neighbor (BEST ONE 98%%)"
      ]
    },
    {
      "cell_type": "code",
      "metadata": {
        "colab": {
          "base_uri": "https://localhost:8080/"
        },
        "id": "7rnTmS8BHT_2",
        "outputId": "b8eff2a3-6bab-4283-d921-8dd0072755e9"
      },
      "source": [
        "from sklearn import datasets\r\n",
        "from sklearn import metrics\r\n",
        "from sklearn.neighbors import KNeighborsClassifier\r\n",
        "model = KNeighborsClassifier()\r\n",
        "model.fit(X_train, Y_train)"
      ],
      "execution_count": 18,
      "outputs": [
        {
          "output_type": "execute_result",
          "data": {
            "text/plain": [
              "KNeighborsClassifier(algorithm='auto', leaf_size=30, metric='minkowski',\n",
              "                     metric_params=None, n_jobs=None, n_neighbors=5, p=2,\n",
              "                     weights='uniform')"
            ]
          },
          "metadata": {
            "tags": []
          },
          "execution_count": 18
        }
      ]
    },
    {
      "cell_type": "markdown",
      "metadata": {
        "id": "o8LXzPTZHfB2"
      },
      "source": [
        " Make predictions"
      ]
    },
    {
      "cell_type": "code",
      "metadata": {
        "id": "BqCQ7oI_Hoez"
      },
      "source": [
        "y_pred = model.predict(X_test)"
      ],
      "execution_count": 19,
      "outputs": []
    },
    {
      "cell_type": "markdown",
      "metadata": {
        "id": "_O3ylKiaHxVj"
      },
      "source": [
        "summarize the fit of the model"
      ]
    },
    {
      "cell_type": "code",
      "metadata": {
        "colab": {
          "base_uri": "https://localhost:8080/"
        },
        "id": "RUfVTDd8H1dP",
        "outputId": "b67eb80f-542d-4a6b-9bf6-5b714bba358a"
      },
      "source": [
        "print(\"k-Nearest Neighbor: \")\r\n",
        "print(metrics.accuracy_score(Y_test, y_pred))\r\n",
        "print(metrics.classification_report(Y_test, y_pred))\r\n",
        "print(metrics.confusion_matrix(Y_test, y_pred))\r\n"
      ],
      "execution_count": 20,
      "outputs": [
        {
          "output_type": "stream",
          "text": [
            "k-Nearest Neighbor: \n",
            "0.9795918367346939\n",
            "              precision    recall  f1-score   support\n",
            "\n",
            "           0       1.00      0.90      0.95        10\n",
            "           1       0.97      1.00      0.99        39\n",
            "\n",
            "    accuracy                           0.98        49\n",
            "   macro avg       0.99      0.95      0.97        49\n",
            "weighted avg       0.98      0.98      0.98        49\n",
            "\n",
            "[[ 9  1]\n",
            " [ 0 39]]\n"
          ],
          "name": "stdout"
        }
      ]
    },
    {
      "cell_type": "markdown",
      "metadata": {
        "id": "clGkx__0IUEw"
      },
      "source": [
        "# Support Vector Machine"
      ]
    },
    {
      "cell_type": "code",
      "metadata": {
        "colab": {
          "base_uri": "https://localhost:8080/"
        },
        "id": "kiOHmXmwIixF",
        "outputId": "24daf754-666a-4044-bc89-7cca17b27da1"
      },
      "source": [
        "from sklearn import datasets\r\n",
        "from sklearn import metrics\r\n",
        "from sklearn.svm import SVC\r\n",
        "model = SVC()\r\n",
        "model.fit(X_train, Y_train)"
      ],
      "execution_count": 24,
      "outputs": [
        {
          "output_type": "execute_result",
          "data": {
            "text/plain": [
              "SVC(C=1.0, break_ties=False, cache_size=200, class_weight=None, coef0=0.0,\n",
              "    decision_function_shape='ovr', degree=3, gamma='scale', kernel='rbf',\n",
              "    max_iter=-1, probability=False, random_state=None, shrinking=True,\n",
              "    tol=0.001, verbose=False)"
            ]
          },
          "metadata": {
            "tags": []
          },
          "execution_count": 24
        }
      ]
    },
    {
      "cell_type": "markdown",
      "metadata": {
        "id": "6B8IvpjxI3oP"
      },
      "source": [
        "make predictions"
      ]
    },
    {
      "cell_type": "code",
      "metadata": {
        "id": "dI8Y0XptI9Yp"
      },
      "source": [
        "y_pred = model.predict(X_test)"
      ],
      "execution_count": 25,
      "outputs": []
    },
    {
      "cell_type": "markdown",
      "metadata": {
        "id": "ZmS4NoonJNQm"
      },
      "source": [
        "summarize the fit of the model"
      ]
    },
    {
      "cell_type": "code",
      "metadata": {
        "id": "n6CCREpWJSzr",
        "outputId": "4719bebe-863a-4415-a2c0-621e144790ff",
        "colab": {
          "base_uri": "https://localhost:8080/"
        }
      },
      "source": [
        "print(\"Support Vector Machine: \")\r\n",
        "print(metrics.accuracy_score(Y_test, y_pred))\r\n",
        "print(metrics.classification_report(Y_test, y_pred))\r\n",
        "print(metrics.confusion_matrix(Y_test, y_pred))\r\n"
      ],
      "execution_count": 26,
      "outputs": [
        {
          "output_type": "stream",
          "text": [
            "Support Vector Machine: \n",
            "0.8979591836734694\n",
            "              precision    recall  f1-score   support\n",
            "\n",
            "           0       1.00      0.50      0.67        10\n",
            "           1       0.89      1.00      0.94        39\n",
            "\n",
            "    accuracy                           0.90        49\n",
            "   macro avg       0.94      0.75      0.80        49\n",
            "weighted avg       0.91      0.90      0.88        49\n",
            "\n",
            "[[ 5  5]\n",
            " [ 0 39]]\n"
          ],
          "name": "stdout"
        }
      ]
    },
    {
      "cell_type": "markdown",
      "metadata": {
        "id": "Fq12xzBoJZKY"
      },
      "source": [
        "Classification and Regression Trees"
      ]
    },
    {
      "cell_type": "code",
      "metadata": {
        "id": "r72GvWJUJlsw",
        "outputId": "9a648f13-3cba-42ba-a3be-b31247011fae",
        "colab": {
          "base_uri": "https://localhost:8080/"
        }
      },
      "source": [
        "from sklearn import datasets\r\n",
        "from sklearn import metrics\r\n",
        "from sklearn.tree import DecisionTreeClassifier\r\n",
        "model = DecisionTreeClassifier()\r\n",
        "model.fit(X_train, Y_train)"
      ],
      "execution_count": 27,
      "outputs": [
        {
          "output_type": "execute_result",
          "data": {
            "text/plain": [
              "DecisionTreeClassifier(ccp_alpha=0.0, class_weight=None, criterion='gini',\n",
              "                       max_depth=None, max_features=None, max_leaf_nodes=None,\n",
              "                       min_impurity_decrease=0.0, min_impurity_split=None,\n",
              "                       min_samples_leaf=1, min_samples_split=2,\n",
              "                       min_weight_fraction_leaf=0.0, presort='deprecated',\n",
              "                       random_state=None, splitter='best')"
            ]
          },
          "metadata": {
            "tags": []
          },
          "execution_count": 27
        }
      ]
    },
    {
      "cell_type": "markdown",
      "metadata": {
        "id": "1m1rtDxjJpnr"
      },
      "source": [
        " make predictions"
      ]
    },
    {
      "cell_type": "code",
      "metadata": {
        "id": "WJX7t_C0JvWV"
      },
      "source": [
        "y_pred = model.predict(X_test)"
      ],
      "execution_count": 28,
      "outputs": []
    },
    {
      "cell_type": "markdown",
      "metadata": {
        "id": "giHWej1cJ1tx"
      },
      "source": [
        "summarize the fit of the model"
      ]
    },
    {
      "cell_type": "code",
      "metadata": {
        "id": "jPpaWH_fJ7FC",
        "outputId": "a93d3f1b-b683-484c-b7dc-eca479198c1a",
        "colab": {
          "base_uri": "https://localhost:8080/"
        }
      },
      "source": [
        "print(\"Classification and Regression Trees\")\r\n",
        "print(metrics.accuracy_score(Y_test, y_pred))\r\n",
        "print(metrics.classification_report(Y_test, y_pred))\r\n",
        "print(metrics.confusion_matrix(Y_test, y_pred))"
      ],
      "execution_count": 29,
      "outputs": [
        {
          "output_type": "stream",
          "text": [
            "Classification and Regression Trees\n",
            "0.9591836734693877\n",
            "              precision    recall  f1-score   support\n",
            "\n",
            "           0       0.90      0.90      0.90        10\n",
            "           1       0.97      0.97      0.97        39\n",
            "\n",
            "    accuracy                           0.96        49\n",
            "   macro avg       0.94      0.94      0.94        49\n",
            "weighted avg       0.96      0.96      0.96        49\n",
            "\n",
            "[[ 9  1]\n",
            " [ 1 38]]\n"
          ],
          "name": "stdout"
        }
      ]
    }
  ]
}